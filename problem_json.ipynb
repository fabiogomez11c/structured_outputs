{
 "cells": [
  {
   "cell_type": "code",
   "execution_count": 9,
   "metadata": {},
   "outputs": [],
   "source": [
    "from pydantic import BaseModel, Field\n",
    "\n",
    "class Person(BaseModel):\n",
    "    name: str\n",
    "    age: int"
   ]
  },
  {
   "cell_type": "code",
   "execution_count": 10,
   "metadata": {},
   "outputs": [],
   "source": [
    "from openai import OpenAI"
   ]
  },
  {
   "cell_type": "code",
   "execution_count": 11,
   "metadata": {},
   "outputs": [],
   "source": [
    "client = OpenAI()\n",
    "\n",
    "resp = client.chat.completions.create(\n",
    "    model='gpt-3.5-turbo',\n",
    "    messages=[\n",
    "        {\n",
    "            'role': 'user',\n",
    "            'content': 'Please give me jason is 10 as a json object'\n",
    "        }\n",
    "    ],\n",
    "    n=20,\n",
    "    temperature=1,\n",
    ")"
   ]
  },
  {
   "cell_type": "code",
   "execution_count": 12,
   "metadata": {},
   "outputs": [
    {
     "name": "stdout",
     "output_type": "stream",
     "text": [
      "error!\n",
      "{\n",
      "  \"Jason\": {\n",
      "    \"age\": 10\n",
      "  }\n",
      "}\n",
      "correct parsed person=Person(name='Jason', age=10)\n",
      "error!\n",
      "{\n",
      "  \"Jason\": {\n",
      "    \"age\": 10\n",
      "  }\n",
      "}\n",
      "correct parsed person=Person(name='Jason', age=10)\n",
      "correct parsed person=Person(name='Jason', age=10)\n",
      "correct parsed person=Person(name='Jason', age=10)\n",
      "error!\n",
      "{\n",
      "  \"Jason\": {\n",
      "    \"age\": 10\n",
      "  }\n",
      "}\n",
      "correct parsed person=Person(name='Jason', age=10)\n",
      "error!\n",
      "{\n",
      "  \"Jason\": {\n",
      "    \"age\": 10\n",
      "  }\n",
      "}\n",
      "correct parsed person=Person(name='Jason', age=10)\n",
      "error!\n",
      "{\n",
      "  \"Jason\": {\n",
      "    \"age\": 10\n",
      "  }\n",
      "}\n",
      "error!\n",
      "{\n",
      "  \"jason\": 10\n",
      "}\n",
      "error!\n",
      "{\n",
      "  \"Jason\": {\n",
      "    \"Age\": 10\n",
      "  }\n",
      "}\n",
      "correct parsed person=Person(name='Jason', age=10)\n",
      "error!\n",
      "{\n",
      "  \"jason\": 10\n",
      "}\n",
      "error!\n",
      "{\n",
      "  \"Jason\": {\n",
      "    \"age\": 10\n",
      "  }\n",
      "}\n",
      "error!\n",
      "{\n",
      "  \"Jason\": {\n",
      "    \"Age\": 10\n",
      "  }\n",
      "}\n",
      "correct parsed person=Person(name='Jason', age=10)\n",
      "correct parsed person=Person(name='Jason', age=10)\n",
      "correct parsed person=Person(name='Jason', age=10)\n"
     ]
    }
   ],
   "source": [
    "for choice in resp.choices:\n",
    "    json = choice.message.content\n",
    "    try:\n",
    "        person = Person.model_validate_json(json)\n",
    "        print(f'correct parsed {person=}')\n",
    "    except:\n",
    "        print('error!')\n",
    "        print(json)"
   ]
  },
  {
   "cell_type": "markdown",
   "metadata": {},
   "source": [
    "You can see that sometimes it gives a good answer but other times it gives a bad answer."
   ]
  }
 ],
 "metadata": {
  "kernelspec": {
   "display_name": "soutputs",
   "language": "python",
   "name": "python3"
  },
  "language_info": {
   "codemirror_mode": {
    "name": "ipython",
    "version": 3
   },
   "file_extension": ".py",
   "mimetype": "text/x-python",
   "name": "python",
   "nbconvert_exporter": "python",
   "pygments_lexer": "ipython3",
   "version": "3.11.8"
  }
 },
 "nbformat": 4,
 "nbformat_minor": 2
}
